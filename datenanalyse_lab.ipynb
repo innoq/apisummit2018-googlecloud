{
 "cells": [
  {
   "cell_type": "code",
   "execution_count": 1,
   "metadata": {},
   "outputs": [],
   "source": [
    "import pandas as pd\n",
    "import google.datalab as datalab\n",
    "import os"
   ]
  },
  {
   "cell_type": "markdown",
   "metadata": {},
   "source": [
    "### Daten laden"
   ]
  },
  {
   "cell_type": "code",
   "execution_count": 2,
   "metadata": {},
   "outputs": [
    {
     "name": "stdout",
     "output_type": "stream",
     "text": [
      "\n",
      "\n",
      "Updates are available for some Cloud SDK components.  To install them,\n",
      "please run:\n",
      "  $ gcloud components update\n",
      "\n",
      "gs://hallo-apisummit2018/export/:\n",
      "gs://hallo-apisummit2018/export/2018-12-03.csv\n"
     ]
    }
   ],
   "source": [
    "storage_bucket = 'gs://hallo-apisummit2018'\n",
    "workspace_path = os.path.join(storage_bucket, 'export')\n",
    "!gsutil ls -r {workspace_path}"
   ]
  },
  {
   "cell_type": "code",
   "execution_count": 8,
   "metadata": {},
   "outputs": [
    {
     "name": "stdout",
     "output_type": "stream",
     "text": [
      "id      object\n",
      "todo    object\n",
      "date    object\n",
      "dtype: object\n"
     ]
    },
    {
     "data": {
      "text/html": [
       "<div>\n",
       "<style scoped>\n",
       "    .dataframe tbody tr th:only-of-type {\n",
       "        vertical-align: middle;\n",
       "    }\n",
       "\n",
       "    .dataframe tbody tr th {\n",
       "        vertical-align: top;\n",
       "    }\n",
       "\n",
       "    .dataframe thead th {\n",
       "        text-align: right;\n",
       "    }\n",
       "</style>\n",
       "<table border=\"1\" class=\"dataframe\">\n",
       "  <thead>\n",
       "    <tr style=\"text-align: right;\">\n",
       "      <th></th>\n",
       "      <th>id</th>\n",
       "      <th>todo</th>\n",
       "      <th>date</th>\n",
       "    </tr>\n",
       "  </thead>\n",
       "  <tbody>\n",
       "    <tr>\n",
       "      <th>0</th>\n",
       "      <td>c9cd77c9-fe99-46e8-abf0-b91c2617510a</td>\n",
       "      <td>Reduced composite matrix</td>\n",
       "      <td>2018-02-03 00:00:00</td>\n",
       "    </tr>\n",
       "    <tr>\n",
       "      <th>1</th>\n",
       "      <td>a4546a94-3f21-470b-8f95-47dc9d3013f5</td>\n",
       "      <td>Enhanced coherent infrastructure</td>\n",
       "      <td>2018-06-02 00:00:00</td>\n",
       "    </tr>\n",
       "  </tbody>\n",
       "</table>\n",
       "</div>"
      ],
      "text/plain": [
       "                                     id                              todo  \\\n",
       "0  c9cd77c9-fe99-46e8-abf0-b91c2617510a          Reduced composite matrix   \n",
       "1  a4546a94-3f21-470b-8f95-47dc9d3013f5  Enhanced coherent infrastructure   \n",
       "\n",
       "                  date  \n",
       "0  2018-02-03 00:00:00  \n",
       "1  2018-06-02 00:00:00  "
      ]
     },
     "execution_count": 8,
     "metadata": {},
     "output_type": "execute_result"
    }
   ],
   "source": [
    "csv = datalab.data.CsvFile('gs://hallo-apisummit2018/export/2018-12-03.csv')\n",
    "df = csv.browse(headers=[\"id\", \"todo\", \"date\"])\n",
    "print (df.dtypes)\n",
    "df.head(2)"
   ]
  },
  {
   "cell_type": "markdown",
   "metadata": {},
   "source": [
    "### Daten aufbereiten"
   ]
  },
  {
   "cell_type": "code",
   "execution_count": 9,
   "metadata": {},
   "outputs": [
    {
     "data": {
      "text/html": [
       "<div>\n",
       "<style scoped>\n",
       "    .dataframe tbody tr th:only-of-type {\n",
       "        vertical-align: middle;\n",
       "    }\n",
       "\n",
       "    .dataframe tbody tr th {\n",
       "        vertical-align: top;\n",
       "    }\n",
       "\n",
       "    .dataframe thead th {\n",
       "        text-align: right;\n",
       "    }\n",
       "</style>\n",
       "<table border=\"1\" class=\"dataframe\">\n",
       "  <thead>\n",
       "    <tr style=\"text-align: right;\">\n",
       "      <th></th>\n",
       "      <th>id</th>\n",
       "      <th>todo</th>\n",
       "    </tr>\n",
       "    <tr>\n",
       "      <th>date</th>\n",
       "      <th></th>\n",
       "      <th></th>\n",
       "    </tr>\n",
       "  </thead>\n",
       "  <tbody>\n",
       "    <tr>\n",
       "      <th>2018-02-03</th>\n",
       "      <td>c9cd77c9-fe99-46e8-abf0-b91c2617510a</td>\n",
       "      <td>Reduced composite matrix</td>\n",
       "    </tr>\n",
       "    <tr>\n",
       "      <th>2018-06-02</th>\n",
       "      <td>a4546a94-3f21-470b-8f95-47dc9d3013f5</td>\n",
       "      <td>Enhanced coherent infrastructure</td>\n",
       "    </tr>\n",
       "    <tr>\n",
       "      <th>2018-06-14</th>\n",
       "      <td>3c731466-21be-4a45-8944-d179a580e151</td>\n",
       "      <td>Ameliorated fault-tolerant function</td>\n",
       "    </tr>\n",
       "    <tr>\n",
       "      <th>2018-05-12</th>\n",
       "      <td>ffce4a87-23f6-4342-8a4b-050dafdda1e3</td>\n",
       "      <td>Extended heuristic secured line</td>\n",
       "    </tr>\n",
       "    <tr>\n",
       "      <th>2017-12-02</th>\n",
       "      <td>f8d04897-a0f5-4d16-8d8e-32903c06d9b1</td>\n",
       "      <td>Persevering incremental customer loyalty</td>\n",
       "    </tr>\n",
       "  </tbody>\n",
       "</table>\n",
       "</div>"
      ],
      "text/plain": [
       "                                              id  \\\n",
       "date                                               \n",
       "2018-02-03  c9cd77c9-fe99-46e8-abf0-b91c2617510a   \n",
       "2018-06-02  a4546a94-3f21-470b-8f95-47dc9d3013f5   \n",
       "2018-06-14  3c731466-21be-4a45-8944-d179a580e151   \n",
       "2018-05-12  ffce4a87-23f6-4342-8a4b-050dafdda1e3   \n",
       "2017-12-02  f8d04897-a0f5-4d16-8d8e-32903c06d9b1   \n",
       "\n",
       "                                                todo  \n",
       "date                                                  \n",
       "2018-02-03                  Reduced composite matrix  \n",
       "2018-06-02          Enhanced coherent infrastructure  \n",
       "2018-06-14       Ameliorated fault-tolerant function  \n",
       "2018-05-12           Extended heuristic secured line  \n",
       "2017-12-02  Persevering incremental customer loyalty  "
      ]
     },
     "execution_count": 9,
     "metadata": {},
     "output_type": "execute_result"
    }
   ],
   "source": [
    "\n",
    "df['date'] = pd.to_datetime(df['date'])\n",
    "tf = df.set_index('date')\n",
    "tf.head(5)"
   ]
  },
  {
   "cell_type": "markdown",
   "metadata": {},
   "source": [
    "### Visualisierung"
   ]
  },
  {
   "cell_type": "code",
   "execution_count": 14,
   "metadata": {},
   "outputs": [
    {
     "data": {
      "image/png": "[encoded data removed]",
      "text/plain": [
       "<matplotlib.figure.Figure at 0x7f1ec8e8f890>"
      ]
     },
     "metadata": {},
     "output_type": "display_data"
    }
   ],
   "source": [
    "# ToDos pro Woche\n",
    "import matplotlib.pyplot as plt \n",
    "plt.rcParams[\"figure.figsize\"] = [20,6]\n",
    "tf['id'].resample('W-MON').count().plot(kind='bar');"
   ]
  },
  {
   "cell_type": "code",
   "execution_count": null,
   "metadata": {},
   "outputs": [],
   "source": []
  }
 ],
 "metadata": {
  "kernelspec": {
   "display_name": "Python 2",
   "language": "python",
   "name": "python2"
  },
  "language_info": {
   "codemirror_mode": {
    "name": "ipython",
    "version": 2
   },
   "file_extension": ".py",
   "mimetype": "text/x-python",
   "name": "python",
   "nbconvert_exporter": "python",
   "pygments_lexer": "ipython2",
   "version": "2.7.15"
  }
 },
 "nbformat": 4,
 "nbformat_minor": 2
}
